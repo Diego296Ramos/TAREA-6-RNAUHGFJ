{
  "cells": [
    {
      "cell_type": "code",
      "execution_count": null,
      "id": "e56d86d8",
      "metadata": {
        "id": "e56d86d8"
      },
      "outputs": [],
      "source": [
        "import tensorflow as tf\n",
        "from tensorflow.keras.layers import Layer\n",
        "from tensorflow.keras.datasets import mnist\n",
        "import numpy as np\n",
        "\n",
        "class ESCALAGRISES(Layer):\n",
        "    def __init__(self):\n",
        "        super(ESCALAGRISES, self).__init__()\n",
        "        #Dado que solo se pide la capa, se usa Layer para heredar la clase\n",
        "    def escalaagrises(imagen):\n",
        "        # Se extraen los canales de RGB (Red, Green, Blue)\n",
        "        red_channel = imagen[:, :, 0]\n",
        "        green_channel = imagen[:, :, 1]\n",
        "        blue_channel = imagen[:, :, 2]\n",
        "\n",
        "        # Calculamos el promedio ponderado para cada pixel\n",
        "        grises_imagen = (0.2989 * red_channel + 0.5870 * green_channel + 0.1140 * blue_channel)\n",
        "        # Valores sacados de tf.image.rgb_to_grayscale\n",
        "\n",
        "        # Nos aseguramos que la imagen esta en el rango [0, 255]\n",
        "        grises_imagen = np.clip(grises_imagen, 0, 255)\n",
        "\n",
        "        return grises_imagen.astype(np.uint8)\n",
        "        #Se pasa a astype\n",
        "\n",
        "\n",
        "# Se carga el conjunto de datos MNIST\n",
        "(x_train, y_train), (x_test, y_test) = mnist.load_data()\n",
        "\n",
        "# Se normalizan las imágenes\n",
        "x_train = x_train.astype('float32') / 255.0\n",
        "x_test = x_test.astype('float32') / 255.0\n"
      ]
    }
  ],
  "metadata": {
    "kernelspec": {
      "display_name": "Python 3 (ipykernel)",
      "language": "python",
      "name": "python3"
    },
    "language_info": {
      "codemirror_mode": {
        "name": "ipython",
        "version": 3
      },
      "file_extension": ".py",
      "mimetype": "text/x-python",
      "name": "python",
      "nbconvert_exporter": "python",
      "pygments_lexer": "ipython3",
      "version": "3.9.7"
    },
    "colab": {
      "provenance": []
    }
  },
  "nbformat": 4,
  "nbformat_minor": 5
}